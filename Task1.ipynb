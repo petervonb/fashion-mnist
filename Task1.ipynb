{
 "cells": [
  {
   "cell_type": "code",
   "execution_count": 1,
   "id": "5cf14d58",
   "metadata": {
    "pycharm": {
     "name": ""
    }
   },
   "outputs": [],
   "source": [
    "from utils import mnist_reader\n",
    "from sklearn.ensemble import RandomForestClassifier\n",
    "import time\n",
    "from sklearn import metrics\n",
    "from sklearn.decomposition import PCA\n",
    "import numpy as np"
   ]
  },
  {
   "cell_type": "code",
   "execution_count": 2,
   "id": "b08afc61",
   "metadata": {},
   "outputs": [],
   "source": [
    "fashion_: str = 'C:/Users/peter/OneDrive - Office 365 Fontys/INF4/DASC2/CODE/DASC/fashion-mnist/data/fashion/'\n",
    "#fashion_: str = 'data/fashion/'\n",
    "\n",
    "\n",
    "img_train, label_train = mnist_reader.load_mnist(fashion_, kind='train')\n",
    "img_test, label_test = mnist_reader.load_mnist(fashion_, kind='t10k')"
   ]
  },
  {
   "cell_type": "code",
   "execution_count": 3,
   "id": "7b466fef",
   "metadata": {},
   "outputs": [
    {
     "name": "stdout",
     "output_type": "stream",
     "text": [
      "Starting RFC\n",
      "Starting RFC\n",
      "Accuracy: 0.8756\n",
      "Execution time: 203.7822232246399 seconds\n",
      "Accuracy: 0.8756\n",
      "Execution time: 203.7822232246399 seconds\n"
     ]
    }
   ],
   "source": [
    "st = time.time()\n",
    "print(\"Starting RFC\")\n",
    "rfc = RandomForestClassifier()\n",
    "rfc.fit(img_train, label_train)\n",
    "y_pred = rfc.predict(img_test)\n",
    "# Model Accuracy, how often is the classifier correct?\n",
    "print(\"Accuracy:\", metrics.accuracy_score(label_test, y_pred))\n",
    "et = time.time()\n",
    "# get the execution time\n",
    "elapsed_time = et - st\n",
    "print('Execution time:', elapsed_time, 'seconds')"
   ]
  },
  {
   "cell_type": "code",
   "execution_count": 4,
   "id": "013bede2",
   "metadata": {},
   "outputs": [
    {
     "name": "stdout",
     "output_type": "stream",
     "text": [
      "187 Number of Components fitting PCA of .95\n",
      "187 Number of Components fitting PCA of .95\n",
      "Starting new RFC\n",
      "Starting new RFC\n",
      "Accuracy: 0.8565\n",
      "Execution time: 197.54051971435547 seconds\n",
      "Accuracy: 0.8565\n",
      "Execution time: 197.54051971435547 seconds\n"
     ]
    }
   ],
   "source": [
    "\n",
    "# Make an instance of the Model\n",
    "pca = PCA(.95)\n",
    "pca.fit(img_train)\n",
    "# How many components fit 95% variance\n",
    "print(pca.n_components_, 'Number of Components fitting PCA of .95')\n",
    "\n",
    "# Apply pca on train and test set \n",
    "img_train = pca.transform(img_train)\n",
    "img_test = pca.transform(img_test)\n",
    "\n",
    "# New RFC, measure Performance\n",
    "st = time.time()\n",
    "print(\"Starting new RFC\")\n",
    "rfc2 = RandomForestClassifier()\n",
    "rfc2.fit(img_train, label_train)\n",
    "y_pred = rfc2.predict(img_test)\n",
    "# Model Accuracy, how often is the classifier correct?\n",
    "print(\"Accuracy:\", metrics.accuracy_score(label_test, y_pred))\n",
    "et = time.time()\n",
    "elapsed_time = et - st\n",
    "print('Execution time:', elapsed_time, 'seconds')"
   ]
  },
  {
   "cell_type": "markdown",
   "id": "7fa99c11",
   "metadata": {},
   "source": [
    "We can see that the time of execution is longer now. This is probably due to the fact that slicing takes longer for the algorithm as variance of all components is better. "
   ]
  },
  {
   "cell_type": "code",
   "execution_count": 6,
   "id": "4b852b72",
   "metadata": {},
   "outputs": [
    {
     "name": "stdout",
     "output_type": "stream",
     "text": [
      "Execution time on original dataset: 31.694473266601562 seconds\n",
      "Execution time on original dataset: 31.694473266601562 seconds\n"
     ]
    },
    {
     "name": "stderr",
     "output_type": "stream",
     "text": [
      "C:\\Users\\peter\\anaconda3\\lib\\site-packages\\sklearn\\linear_model\\_logistic.py:814: ConvergenceWarning: lbfgs failed to converge (status=1):\n",
      "STOP: TOTAL NO. of ITERATIONS REACHED LIMIT.\n",
      "\n",
      "Increase the number of iterations (max_iter) or scale the data as shown in:\n",
      "    https://scikit-learn.org/stable/modules/preprocessing.html\n",
      "Please also refer to the documentation for alternative solver options:\n",
      "    https://scikit-learn.org/stable/modules/linear_model.html#logistic-regression\n",
      "  n_iter_i = _check_optimize_result(\n",
      "C:\\Users\\peter\\anaconda3\\lib\\site-packages\\sklearn\\linear_model\\_logistic.py:814: ConvergenceWarning: lbfgs failed to converge (status=1):\n",
      "STOP: TOTAL NO. of ITERATIONS REACHED LIMIT.\n",
      "\n",
      "Increase the number of iterations (max_iter) or scale the data as shown in:\n",
      "    https://scikit-learn.org/stable/modules/preprocessing.html\n",
      "Please also refer to the documentation for alternative solver options:\n",
      "    https://scikit-learn.org/stable/modules/linear_model.html#logistic-regression\n",
      "  n_iter_i = _check_optimize_result(\n"
     ]
    }
   ],
   "source": [
    "#Applying softmax regression\n",
    "from sklearn.linear_model import LogisticRegression\n",
    "\n",
    "#reload original dataset state\n",
    "img_train2, label_train2 = mnist_reader.load_mnist(fashion_, kind='train')\n",
    "img_test2, label_test2 = mnist_reader.load_mnist(fashion_, kind='t10k')\n",
    "\n",
    "#create regression model \n",
    "st =time.time()\n",
    "clf = LogisticRegression(random_state=0, multi_class ='multinomial')\n",
    "clf.fit(img_train2,label_train2)\n",
    "pred = clf.predict(img_test2)\n",
    "et = time.time()\n",
    "elapsed_time = et - st\n",
    "print('Execution time on original dataset:', elapsed_time, 'seconds')"
   ]
  },
  {
   "cell_type": "code",
   "execution_count": 7,
   "id": "0e679325",
   "metadata": {},
   "outputs": [
    {
     "name": "stdout",
     "output_type": "stream",
     "text": [
      "Execution time on reduced dataset: 12.665598154067993 seconds\n"
     ]
    },
    {
     "name": "stderr",
     "output_type": "stream",
     "text": [
      "C:\\Users\\peter\\anaconda3\\lib\\site-packages\\sklearn\\linear_model\\_logistic.py:814: ConvergenceWarning: lbfgs failed to converge (status=1):\n",
      "STOP: TOTAL NO. of ITERATIONS REACHED LIMIT.\n",
      "\n",
      "Increase the number of iterations (max_iter) or scale the data as shown in:\n",
      "    https://scikit-learn.org/stable/modules/preprocessing.html\n",
      "Please also refer to the documentation for alternative solver options:\n",
      "    https://scikit-learn.org/stable/modules/linear_model.html#logistic-regression\n",
      "  n_iter_i = _check_optimize_result(\n"
     ]
    },
    {
     "name": "stdout",
     "output_type": "stream",
     "text": [
      "Execution time on reduced dataset: 12.665598154067993 seconds\n"
     ]
    },
    {
     "name": "stderr",
     "output_type": "stream",
     "text": [
      "C:\\Users\\peter\\anaconda3\\lib\\site-packages\\sklearn\\linear_model\\_logistic.py:814: ConvergenceWarning: lbfgs failed to converge (status=1):\n",
      "STOP: TOTAL NO. of ITERATIONS REACHED LIMIT.\n",
      "\n",
      "Increase the number of iterations (max_iter) or scale the data as shown in:\n",
      "    https://scikit-learn.org/stable/modules/preprocessing.html\n",
      "Please also refer to the documentation for alternative solver options:\n",
      "    https://scikit-learn.org/stable/modules/linear_model.html#logistic-regression\n",
      "  n_iter_i = _check_optimize_result(\n"
     ]
    }
   ],
   "source": [
    "#Applying softmax regression on reduced dataset\n",
    "#create regression model \n",
    "st =time.time()\n",
    "clf = LogisticRegression(random_state=0, multi_class ='multinomial')\n",
    "clf.fit(img_train,label_train)\n",
    "pred = clf.predict(img_test)\n",
    "et = time.time()\n",
    "elapsed_time = et - st\n",
    "print('Execution time on reduced dataset:', elapsed_time, 'seconds')"
   ]
  },
  {
   "cell_type": "code",
   "execution_count": null,
   "id": "f48606c9",
   "metadata": {},
   "outputs": [],
   "source": []
  }
 ],
 "metadata": {
  "kernelspec": {
   "display_name": "Python 3 (ipykernel)",
   "language": "python",
   "name": "python3"
  },
  "language_info": {
   "codemirror_mode": {
    "name": "ipython",
    "version": 3
   },
   "file_extension": ".py",
   "mimetype": "text/x-python",
   "name": "python",
   "nbconvert_exporter": "python",
   "pygments_lexer": "ipython3",
   "version": "3.9.12"
  }
 },
 "nbformat": 4,
 "nbformat_minor": 5
}
